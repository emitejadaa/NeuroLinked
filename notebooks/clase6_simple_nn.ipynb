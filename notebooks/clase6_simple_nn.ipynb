{
  "cells": [
    {
      "cell_type": "code",
      "execution_count": 190,
      "id": "682a0eea",
      "metadata": {
        "id": "682a0eea"
      },
      "outputs": [],
      "source": [
        "import numpy as np\n",
        "import math"
      ]
    },
    {
      "cell_type": "markdown",
      "id": "5cba8231",
      "metadata": {
        "id": "5cba8231"
      },
      "source": [
        "# Simple Neural Network, hagamoslo de cero!\n",
        "\n",
        "Recuerdo: definimos X como la matriz de entradas (features) e Y como la matriz de salidas esperadas (targets)."
      ]
    },
    {
      "cell_type": "code",
      "execution_count": 191,
      "id": "18710344",
      "metadata": {
        "id": "18710344"
      },
      "outputs": [],
      "source": [
        "X = np.array([\n",
        "    [0,0,1],\n",
        "    [1,1,1],\n",
        "    [1,0,1],\n",
        "    [0,1,1]\n",
        "])\n",
        "y = np.array([[0,1,1,0]]).T # La T es para que sea una matriz columna"
      ]
    },
    {
      "cell_type": "markdown",
      "id": "e137d8f9",
      "metadata": {
        "id": "e137d8f9"
      },
      "source": [
        "Recordemos que la cuenta de una red neuronal simple es:\n",
        "$$\n",
        "z = \\sum_{i=0}^{n} w_{i} x_i = w_0 x_0 + w_1 x_1 + ... + w_n x_n\n",
        "$$\n",
        "A eso le aplicamos una función de activación, en este caso la sigmoide.\n",
        "Nos quedaría:\n",
        "$$\n",
        "output = \\sigma(\\sum_{i=0}^{n} w_{i} x_i)\n",
        "$$\n",
        "o de forma vectorial:\n",
        "$$\n",
        "\\text{output} = \\sigma\\!\\left(\n",
        "\\begin{bmatrix}\n",
        "w_1 & w_2 & \\cdots & w_n\n",
        "\\end{bmatrix}\n",
        "\\begin{bmatrix}\n",
        "x_1 \\\\ x_2 \\\\ \\vdots \\\\ x_n\n",
        "\\end{bmatrix}\n",
        "\\right)\n",
        "$$"
      ]
    },
    {
      "cell_type": "markdown",
      "id": "f36cbcdd",
      "metadata": {
        "id": "f36cbcdd"
      },
      "source": [
        "Ahora hagamos esta misma cuenta pero programando :)\n",
        "Definamos las cosas que nos faltan."
      ]
    },
    {
      "cell_type": "code",
      "execution_count": 192,
      "id": "02617196",
      "metadata": {
        "colab": {
          "base_uri": "https://localhost:8080/"
        },
        "id": "02617196",
        "outputId": "e27f8cc6-866a-404f-f1ed-33e0fff4b007"
      },
      "outputs": [
        {
          "output_type": "stream",
          "name": "stdout",
          "text": [
            "[[0.06521498]\n",
            " [0.88249711]\n",
            " [0.92858578]]\n"
          ]
        }
      ],
      "source": [
        "weights =np.random.rand(3,1) # Completar. Debería ser una vector de 3x1 con valores aleatorios. Usar función de numpy\n",
        "print(weights)\n",
        "def sigmoid(x):\n",
        "    return 1 / (1 + np.exp(-x)) # Completar con la fórmula de la función sigmoide"
      ]
    },
    {
      "cell_type": "code",
      "source": [
        "def bin(v):\n",
        "  return (v > 0.5).astype(int)\n"
      ],
      "metadata": {
        "id": "bwWeQNyWSOhe"
      },
      "id": "bwWeQNyWSOhe",
      "execution_count": 193,
      "outputs": []
    },
    {
      "cell_type": "markdown",
      "id": "3fce06cc",
      "metadata": {
        "id": "3fce06cc"
      },
      "source": [
        "Ahora, creamos la función de forward propagation. Fijemonos que pasa cuando la usamos con los pesos random."
      ]
    },
    {
      "cell_type": "code",
      "execution_count": 194,
      "id": "4e60c580",
      "metadata": {
        "colab": {
          "base_uri": "https://localhost:8080/"
        },
        "id": "4e60c580",
        "outputId": "48d2b5d7-3a07-4042-bfc0-a238c187a942"
      },
      "outputs": [
        {
          "output_type": "stream",
          "name": "stdout",
          "text": [
            "Output de la red neuronal con pesos random:\n",
            "[[0.71678828]\n",
            " [0.86718531]\n",
            " [0.72983799]\n",
            " [0.8594927 ]]\n"
          ]
        }
      ],
      "source": [
        "def forward_prop(X, weights):\n",
        "    z = np.dot(X, weights) # Producto punto entre X y los pesos\n",
        "    output = sigmoid(z)     # Aplicar la función sigmoide\n",
        "    return output\n",
        "\n",
        "output = forward_prop(X, weights)\n",
        "print(\"Output de la red neuronal con pesos random:\")\n",
        "print(output)"
      ]
    },
    {
      "cell_type": "markdown",
      "id": "e282d9f2",
      "metadata": {
        "id": "e282d9f2"
      },
      "source": [
        "Claramente no tiene mucho sentido... Intentemos mejorarlo!\n",
        "\n",
        "Pasos para mejorar la red neuronal:\n",
        "- Definir una función de pérdida (loss function) para medir qué tan bien lo estamos haciendo.\n",
        "- Calculo la derivada de la función de pérdida.\n",
        "Esto es para saber en qué dirección ajustar los pesos (sumo o resto?)\n",
        "- Repito el proceso varias veces (epochs), ajustando los pesos en cada iteración."
      ]
    },
    {
      "cell_type": "code",
      "execution_count": 195,
      "id": "193337f6",
      "metadata": {
        "id": "193337f6"
      },
      "outputs": [],
      "source": [
        "def sigmoid_derivative(x):\n",
        "    return x * (1 - x)"
      ]
    },
    {
      "cell_type": "code",
      "execution_count": 196,
      "id": "3d7ddc10",
      "metadata": {
        "colab": {
          "base_uri": "https://localhost:8080/"
        },
        "id": "3d7ddc10",
        "outputId": "271e11aa-1866-4b05-f023-a120ed9d177c"
      },
      "outputs": [
        {
          "output_type": "stream",
          "name": "stdout",
          "text": [
            "Pesos iniciales:\n",
            "[[0.06521498]\n",
            " [0.88249711]\n",
            " [0.92858578]]\n",
            "\n",
            " Error inicial:\n",
            "[[-0.71678828]\n",
            " [ 0.13281469]\n",
            " [ 0.27016201]\n",
            " [-0.8594927 ]]\n",
            "\n",
            " Derivada de la función sigmoide aplicada al output:\n",
            "[[0.20300284]\n",
            " [0.11517495]\n",
            " [0.1971745 ]\n",
            " [0.120765  ]]\n",
            "\n",
            " Ajuste a aplicar a los pesos:\n",
            "[[-0.14551006]\n",
            " [ 0.01529692]\n",
            " [ 0.05326906]\n",
            " [-0.10379663]]\n",
            "\n",
            " Nuevos pesos después del ajuste:\n",
            "[[0.13378096]\n",
            " [0.7939974 ]\n",
            " [0.74784507]]\n"
          ]
        }
      ],
      "source": [
        "print(\"Pesos iniciales:\")\n",
        "print(weights)\n",
        "\n",
        "error = y - output\n",
        "print(\"\\n Error inicial:\")\n",
        "print(error)\n",
        "\n",
        "print(\"\\n Derivada de la función sigmoide aplicada al output:\")\n",
        "print(sigmoid_derivative(output))\n",
        "\n",
        "ajuste = error * sigmoid_derivative(output)\n",
        "print(\"\\n Ajuste a aplicar a los pesos:\")\n",
        "print(ajuste)\n",
        "\n",
        "weights += np.dot(X.T, ajuste)\n",
        "print(\"\\n Nuevos pesos después del ajuste:\")\n",
        "print(weights)"
      ]
    },
    {
      "cell_type": "markdown",
      "id": "b66ab901",
      "metadata": {
        "id": "b66ab901"
      },
      "source": [
        "**Consigna:** Hacer este mismo proceso de entrenamiento varias veces (si, es copiar y pegar el codigo de arriba en un for). Cuantas? El número de epochs.\n",
        "\n",
        "También guardarse los errores en una lista y graficarlas al final para ver como va mejorando la red neuronal!\n",
        "Recomendación: promediar los errores y tomarles valor absoluto para que no se cancelen entre sí. Esto es solo para graficar mejor\n"
      ]
    },
    {
      "cell_type": "code",
      "execution_count": 197,
      "id": "795c59f8",
      "metadata": {
        "collapsed": true,
        "id": "795c59f8"
      },
      "outputs": [],
      "source": [
        "epochs = 50000\n",
        "errores = []\n",
        "\n",
        "for epoch in range(epochs):\n",
        "  output = forward_prop(X, weights)\n",
        "  error = y - output\n",
        "  ajuste = error * sigmoid_derivative(output)\n",
        "  weights += np.dot(X.T, ajuste)"
      ]
    },
    {
      "cell_type": "markdown",
      "id": "570ed567",
      "metadata": {
        "id": "570ed567"
      },
      "source": [
        "Veamos cómo quedaron los pesos finales\n",
        "\n",
        "Consigna: Escriban por que les parece que puede tener sentido que esos sean los pesos finales. (Miren el input y el output original)"
      ]
    },
    {
      "cell_type": "code",
      "execution_count": 198,
      "id": "87ef6bbd",
      "metadata": {
        "colab": {
          "base_uri": "https://localhost:8080/"
        },
        "id": "87ef6bbd",
        "outputId": "1081f110-99b2-4725-be8e-f14c803f92ff"
      },
      "outputs": [
        {
          "output_type": "stream",
          "name": "stdout",
          "text": [
            "Pesos finales después del entrenamiento:\n",
            "[[11.309189  ]\n",
            " [-0.20516902]\n",
            " [-5.44993435]]\n"
          ]
        }
      ],
      "source": [
        "print(\"Pesos finales después del entrenamiento:\")\n",
        "print(weights)"
      ]
    },
    {
      "cell_type": "markdown",
      "id": "f4ff1df3",
      "metadata": {
        "id": "f4ff1df3"
      },
      "source": [
        "Les dejo un código para graficar la red neuronal con los pesos finales."
      ]
    },
    {
      "cell_type": "code",
      "execution_count": 199,
      "id": "fb92baee",
      "metadata": {
        "colab": {
          "base_uri": "https://localhost:8080/",
          "height": 406
        },
        "id": "fb92baee",
        "outputId": "75fd0c6a-54fc-4577-9cb1-53e8a230a070"
      },
      "outputs": [
        {
          "output_type": "display_data",
          "data": {
            "text/plain": [
              "<Figure size 640x480 with 1 Axes>"
            ],
            "image/png": "[encoded data removed]"
          },
          "metadata": {}
        }
      ],
      "source": [
        "import matplotlib.pyplot as plt\n",
        "import networkx as nx\n",
        "import itertools\n",
        "G = nx.DiGraph()\n",
        "layers = [[0, 1, 2], [3]]\n",
        "\n",
        "rels = list(itertools.product(*layers))\n",
        "#rels.append((3, 4))\n",
        "flatten = lambda l: [x for i in l for x in i]\n",
        "\n",
        "labels = {i: v for i, v in enumerate(X[1])}\n",
        "labels[3] = round(forward_prop(X[1], weights)[0], 3)\n",
        "#labels[4] = 0 if res < thresh else 1\n",
        "\n",
        "pos = {}\n",
        "m = max([len(l) for l in layers])\n",
        "for i, l in enumerate(layers):\n",
        "  for j, v in enumerate(l):\n",
        "    pos[v] = (i, len(l) - j)\n",
        "\n",
        "pos[3] = (pos[3][0], pos[1][1])\n",
        "#pos[4] = (pos[3][0] + 1, pos[1][1])\n",
        "\n",
        "weights_labels = {(ra, rb): \"{:0.3f}\".format(weights[i][0]) for i, (ra, rb) in enumerate(rels)}\n",
        "G.add_edges_from(rels)\n",
        "\n",
        "options = {\n",
        "    \"font_size\": 16,\n",
        "    \"node_size\": 3000,\n",
        "    \"node_color\": [(1, 1, 1, 1) for _ in range(len(labels))],\n",
        "    \"edgecolors\": \"black\",\n",
        "    \"linewidths\": 3,\n",
        "    \"width\": 3,\n",
        "    \"labels\": labels,\n",
        "    \"connectionstyle\": \"arc3, rad=0\",\n",
        "}\n",
        "\n",
        "nx.draw_networkx(G, pos, **options)\n",
        "\n",
        "nx.draw_networkx_edge_labels(\n",
        "    G, pos,\n",
        "    edge_labels=weights_labels,\n",
        "    font_color='black',\n",
        "    font_size=16,\n",
        "    font_weight='bold'\n",
        ")\n",
        "\n",
        "plt.axis('off')\n",
        "ax = plt.gca()\n",
        "ax.margins(0.20)\n",
        "plt.show()"
      ]
    },
    {
      "cell_type": "markdown",
      "id": "dc3cabd8",
      "metadata": {
        "id": "dc3cabd8"
      },
      "source": [
        "**Última consigna**: Prueben algunos ejemplos nuevos, que no estén en el dataset original, y vean qué predice la red neuronal"
      ]
    },
    {
      "cell_type": "code",
      "source": [
        "X_test = np.array([\n",
        "    [1,0,0],\n",
        "    [1,1,1],\n",
        "    [0,0,1],\n",
        "    [1,1,1]\n",
        "])\n",
        "\n",
        "y_predicted=bin(forward_prop(X_test, weights))"
      ],
      "metadata": {
        "id": "4U9dD7zrNGsj"
      },
      "id": "4U9dD7zrNGsj",
      "execution_count": 200,
      "outputs": []
    },
    {
      "cell_type": "code",
      "source": [
        "print(y_predicted)"
      ],
      "metadata": {
        "colab": {
          "base_uri": "https://localhost:8080/"
        },
        "id": "nx1UYNbFOJPp",
        "outputId": "6c5cad2e-2313-43d5-ae42-e227a584b865"
      },
      "id": "nx1UYNbFOJPp",
      "execution_count": 201,
      "outputs": [
        {
          "output_type": "stream",
          "name": "stdout",
          "text": [
            "[[1]\n",
            " [1]\n",
            " [0]\n",
            " [1]]\n"
          ]
        }
      ]
    }
  ],
  "metadata": {
    "kernelspec": {
      "display_name": "Python 3",
      "language": "python",
      "name": "python3"
    },
    "language_info": {
      "codemirror_mode": {
        "name": "ipython",
        "version": 3
      },
      "file_extension": ".py",
      "mimetype": "text/x-python",
      "name": "python",
      "nbconvert_exporter": "python",
      "pygments_lexer": "ipython3",
      "version": "3.11.5"
    },
    "colab": {
      "provenance": []
    }
  },
  "nbformat": 4,
  "nbformat_minor": 5
}