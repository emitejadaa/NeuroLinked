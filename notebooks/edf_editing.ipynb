{
 "cells": [
  {
   "cell_type": "code",
   "execution_count": 1,
   "id": "638c876a",
   "metadata": {},
   "outputs": [
    {
     "name": "stderr",
     "output_type": "stream",
     "text": [
      "Matplotlib is building the font cache; this may take a moment.\n"
     ]
    }
   ],
   "source": [
    "import mne\n",
    "from mne.datasets.sleep_physionet.age import fetch_data"
   ]
  }
 ],
 "metadata": {
  "kernelspec": {
   "display_name": "NeuroLinked",
  